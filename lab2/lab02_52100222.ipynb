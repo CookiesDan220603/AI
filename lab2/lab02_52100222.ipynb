{
  "nbformat": 4,
  "nbformat_minor": 0,
  "metadata": {
    "colab": {
      "provenance": []
    },
    "kernelspec": {
      "name": "python3",
      "display_name": "Python 3"
    },
    "language_info": {
      "name": "python"
    }
  },
  "cells": [
    {
      "cell_type": "markdown",
      "source": [
        "Course: **Introduction to Artificial Intelligence** \\\n",
        "Lecturer: **Nguyen Thanh An** \\\n",
        "Lab 02: **Best First Search**"
      ],
      "metadata": {
        "id": "AdN_uf9Mex-d"
      }
    },
    {
      "cell_type": "markdown",
      "source": [
        "Students implement GBFS and A* algorithms following TODO 1 - 2. \\\n",
        "Students can add supporting attributes and methods to the two classes as needed."
      ],
      "metadata": {
        "id": "mm5b-FZhfA5H"
      }
    },
    {
      "cell_type": "markdown",
      "source": [
        "# Libraries"
      ],
      "metadata": {
        "id": "9In-lpCRc7rc"
      }
    },
    {
      "cell_type": "code",
      "source": [
        "import os\n",
        "import heapq"
      ],
      "metadata": {
        "id": "baZnzmhNW8KU"
      },
      "execution_count": null,
      "outputs": []
    },
    {
      "cell_type": "markdown",
      "source": [
        "# Graph class"
      ],
      "metadata": {
        "id": "Hm_qjIb4dB8a"
      }
    },
    {
      "cell_type": "code",
      "execution_count": null,
      "metadata": {
        "id": "IBUbARThU6VK"
      },
      "outputs": [],
      "source": [
        "# Directed, weighted graphs\n",
        "class Graph:\n",
        "  def __init__(self):\n",
        "    self.AL = dict() # adjacency list\n",
        "    self.V = 0\n",
        "    self.E = 0\n",
        "    self.H = dict()\n",
        "\n",
        "  def __str__(self):\n",
        "    res = 'V: %d, E: %d\\n'%(self.V, self.E)\n",
        "    for u, neighbors in self.AL.items():\n",
        "      line = '%d: %s\\n'%(u, str(neighbors))\n",
        "      res += line\n",
        "    for u, h in self.H.items():\n",
        "      line = 'h(%d) = %d\\n'%(u, h)\n",
        "    return res\n",
        "\n",
        "  def print(self):\n",
        "    print(str(self))\n",
        "\n",
        "  def load_from_file(self, filename):\n",
        "    '''\n",
        "        Example input file:\n",
        "            V E\n",
        "            u v w\n",
        "            u v w\n",
        "            u v w\n",
        "            ...\n",
        "            u1 h1\n",
        "            u2 h2\n",
        "            u3 h3\n",
        "            ...\n",
        "\n",
        "        # input.txt\n",
        "        7 8\n",
        "        0 1 5 \n",
        "        0 2 6\n",
        "        1 3 12\n",
        "        1 4 9\n",
        "        2 5 5\n",
        "        3 5 8\n",
        "        3 6 7\n",
        "        4 6 4\n",
        "        0 14\n",
        "        1 13\n",
        "        2 12\n",
        "        3 11\n",
        "        4 10\n",
        "        5 9\n",
        "        6 0\n",
        "    '''\n",
        "    if os.path.exists(filename):\n",
        "      with open(filename) as g:\n",
        "        self.V, self.E = [int(it) for it in g.readline().split()]\n",
        "        for i in range(self.E):\n",
        "          line = g.readline()\n",
        "          u, v, w = [int(it) for it in line.strip().split()]\n",
        "          if u not in self.AL:\n",
        "            self.AL[u] = []\n",
        "          self.AL[u].append((v, w))\n",
        "        for i in range(self.V):\n",
        "          line = g.readline()\n",
        "          u, h = [int(it) for it in line.strip().split()]\n",
        "          self.H[u] = h"
      ]
    },
    {
      "cell_type": "code",
      "source": [
        "g = Graph()\n",
        "g.load_from_file('input.txt')\n",
        "g.print()"
      ],
      "metadata": {
        "colab": {
          "base_uri": "https://localhost:8080/"
        },
        "id": "k_3EmSFKXtwk",
        "outputId": "a900fe5a-5a8b-4492-ad2e-32c4de9d5655"
      },
      "execution_count": null,
      "outputs": [
        {
          "output_type": "stream",
          "name": "stdout",
          "text": [
            "V: 0, E: 0\n",
            "\n"
          ]
        }
      ]
    },
    {
      "cell_type": "markdown",
      "source": [
        "# Search Strategies"
      ],
      "metadata": {
        "id": "95fgste5dFp0"
      }
    },
    {
      "cell_type": "code",
      "source": [
        "class BestSearchStrategy:\n",
        "  def search(self, g: Graph, src: int, dst: int) -> tuple:\n",
        "    expanded = [] # list of expanded vertices in the traversal order\n",
        "    path = [] # path from src to dst\n",
        "    return expanded, path"
      ],
      "metadata": {
        "id": "DjEuaXToYqk6"
      },
      "execution_count": null,
      "outputs": []
    },
    {
      "cell_type": "code",
      "source": [
        "class GBFS(BestSearchStrategy):\n",
        "  def search(self, g: Graph, src: int, dst: int) -> tuple:\n",
        "    expanded = [] # list of expanded vertices in the traversal order\n",
        "    path = [] # path from src to dst\n",
        "\n",
        "    u = src\n",
        "    pq = []\n",
        "    heapq.heappush(pq, (0, u, -1))\n",
        "    parent = dict()\n",
        "    while len(pq) != 0:\n",
        "      h, u, pu = heapq.heappop(pq)\n",
        "      parent[u] = pu\n",
        "      expanded.append(u)\n",
        "      if u == dst:\n",
        "        break\n",
        "      if u not in g.AL.keys():\n",
        "        continue\n",
        "      for v, w in g.AL[u]:\n",
        "        if v not in expanded:\n",
        "          heapq.heappush(pq, (g.H[v], v, u))\n",
        "    \n",
        "    u = dst\n",
        "    if u in parent.keys():\n",
        "      while u != -1:\n",
        "        path = [u] + path\n",
        "        u = parent[u]\n",
        "      \n",
        "    \n",
        "    return expanded, path"
      ],
      "metadata": {
        "id": "Iax-_lNJZcQc"
      },
      "execution_count": null,
      "outputs": []
    },
    {
      "cell_type": "code",
      "source": [
        "class AStar(BestSearchStrategy):\n",
        "  def search(self, g: Graph, src: int, dst: int) -> tuple:\n",
        "    expanded = [] # list of expanded vertices in the traversal order\n",
        "    path = [] # path from src to dst\n",
        "\n",
        "    # TODO 2\n",
        "        u = src\n",
        "    pq = []\n",
        "    heapq.heappush(pq, (0, u, -1, 0))\n",
        "    parent = dict()\n",
        "    \n",
        "    while len(pq) != 0:\n",
        "      f, u, pu, g_ = heapq.heappop(pq)\n",
        "      parent[u] = pu\n",
        "      expanded.append(u)\n",
        "      if u == dst:\n",
        "        break\n",
        "      if u not in g.AL.keys():\n",
        "        continue\n",
        "      for v, w in g.AL[u]:\n",
        "        if v not in expanded:\n",
        "          f2 = (g_ + w) + g.H[v]\n",
        "          heapq.heappush(pq, (f2, v, u, g_ + w))\n",
        "          \n",
        "    u = dst\n",
        "    if u in parent.keys():\n",
        "      while u != -1:\n",
        "        path = [u] + path\n",
        "        u = parent[u]\n",
        "    return expanded, path"
      ],
      "metadata": {
        "id": "nMO61eRTZrRS"
      },
      "execution_count": null,
      "outputs": []
    },
    {
      "cell_type": "markdown",
      "source": [
        "# Evaluation"
      ],
      "metadata": {
        "id": "hzWhWbDMdItW"
      }
    },
    {
      "cell_type": "code",
      "source": [
        "gbfs = GBFS()\n",
        "astar = AStar()\n",
        "\n",
        "for stg in [gbfs, astar]:\n",
        "  print(stg)\n",
        "  expanded, path = stg.search(g, 0, g.V-1)\n",
        "  print(expanded)\n",
        "  print(path)"
      ],
      "metadata": {
        "colab": {
          "base_uri": "https://localhost:8080/"
        },
        "id": "kI0wFSGuaKeT",
        "outputId": "faf5ac91-8e0a-4c44-e4ba-943c7097e64c"
      },
      "execution_count": null,
      "outputs": [
        {
          "output_type": "stream",
          "name": "stdout",
          "text": [
            "<__main__.GBFS object at 0x7fa6880a3ac0>\n",
            "[]\n",
            "[]\n",
            "<__main__.AStar object at 0x7fa6880a3be0>\n",
            "[]\n",
            "[]\n"
          ]
        }
      ]
    },
    {
      "cell_type": "markdown",
      "source": [
        "# Submission Notice\n",
        "\n",
        "\n",
        "*   Maintain all cell outputs\n",
        "*   Download and rename the notebook as **lab02_\\<Student ID\\>.ipynb**\n",
        "*   Submit by the deadline\n"
      ],
      "metadata": {
        "id": "95erCQsOdTfL"
      }
    }
  ]
}