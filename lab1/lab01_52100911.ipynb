{
  "cells": [
    {
      "cell_type": "markdown",
      "metadata": {
        "id": "AdN_uf9Mex-d"
      },
      "source": [
        "Course: **Introduction to Artificial Intelligence** \\\n",
        "Lecturer: **Nguyen Thanh An** \\\n",
        "Lab 01: **Uninformed Search**"
      ]
    },
    {
      "cell_type": "markdown",
      "metadata": {
        "id": "mm5b-FZhfA5H"
      },
      "source": [
        "Students refer to pseudo codes of BFS, DFS, UCS, DLS, and IDS in [this link](https://drive.google.com/file/d/1q2LtrRCfemfiqyhfxNMcVJ3alvLh_pdV/view?usp=share_link) to implement the corresponding classes in TODO 1 - 5. \\\n",
        "Students can add supporting attributes and methods to the five classes as needed."
      ]
    },
    {
      "cell_type": "markdown",
      "metadata": {
        "id": "9In-lpCRc7rc"
      },
      "source": [
        "# Libraries"
      ]
    },
    {
      "cell_type": "code",
      "execution_count": 82,
      "metadata": {
        "id": "baZnzmhNW8KU"
      },
      "outputs": [],
      "source": [
        "import os\n",
        "import heapq"
      ]
    },
    {
      "cell_type": "markdown",
      "metadata": {
        "id": "Hm_qjIb4dB8a"
      },
      "source": [
        "# Graph class"
      ]
    },
    {
      "cell_type": "code",
      "execution_count": 83,
      "metadata": {
        "id": "IBUbARThU6VK"
      },
      "outputs": [],
      "source": [
        "# Directed, weighted graphs\n",
        "class Graph:\n",
        "  def __init__(self):\n",
        "    self.AL = dict() # adjacency list\n",
        "    self.V = 0\n",
        "    self.E = 0\n",
        "\n",
        "  def __str__(self):\n",
        "    res = 'V: %d, E: %d\\n'%(self.V, self.E)\n",
        "    for u, neighbors in self.AL.items():\n",
        "      line = '%d: %s\\n'%(u, str(neighbors))\n",
        "      res += line\n",
        "    return res\n",
        "\n",
        "  def print(self):\n",
        "    print(str(self))\n",
        "\n",
        "  def load_from_file(self, filename):\n",
        "    '''\n",
        "        Example input file:\n",
        "            V E\n",
        "            u v w\n",
        "            u v w\n",
        "            u v w\n",
        "            ...\n",
        "\n",
        "        # input.txt\n",
        "        7 9\n",
        "        0 1 5\n",
        "        0 2 6\n",
        "        1 3 12\n",
        "        1 4 9\n",
        "        2 5 5\n",
        "        3 5 8\n",
        "        3 6 7\n",
        "        4 6 4\n",
        "    '''\n",
        "    if os.path.exists(filename):\n",
        "      with open(filename) as g:\n",
        "        self.V, self.E = [int(it) for it in g.readline().split()]\n",
        "        for line in g:\n",
        "          u, v, w = [int(it) for it in line.strip().split()]\n",
        "          if u not in self.AL:\n",
        "            self.AL[u] = []\n",
        "          self.AL[u].append((v, w))"
      ]
    },
    {
      "cell_type": "code",
      "execution_count": 84,
      "metadata": {
        "colab": {
          "base_uri": "https://localhost:8080/"
        },
        "id": "k_3EmSFKXtwk",
        "outputId": "38161c2d-e970-4e7e-a2c6-ea8201234d00"
      },
      "outputs": [
        {
          "name": "stdout",
          "output_type": "stream",
          "text": [
            "V: 7, E: 9\n",
            "0: [(1, 5), (2, 6)]\n",
            "1: [(3, 12), (4, 9)]\n",
            "2: [(5, 5)]\n",
            "3: [(5, 8), (6, 7)]\n",
            "4: [(6, 4)]\n",
            "\n"
          ]
        }
      ],
      "source": [
        "g = Graph()\n",
        "g.load_from_file('input.txt')\n",
        "g.print()"
      ]
    },
    {
      "cell_type": "markdown",
      "metadata": {
        "id": "95fgste5dFp0"
      },
      "source": [
        "# Search Strategies"
      ]
    },
    {
      "cell_type": "code",
      "execution_count": 85,
      "metadata": {
        "id": "DjEuaXToYqk6"
      },
      "outputs": [],
      "source": [
        "class SearchStrategy:\n",
        "  def search(self, g: Graph, src: int, dst: int) -> tuple:\n",
        "    expanded = [] # list of expanded vertices in the traversal order\n",
        "    path = [] # path from src to dst\n",
        "    return expanded, path"
      ]
    },
    {
      "cell_type": "code",
      "execution_count": 86,
      "metadata": {
        "id": "Iax-_lNJZcQc"
      },
      "outputs": [],
      "source": [
        "class BFS(SearchStrategy):\n",
        "  def search(self, g: Graph, src: int, dst: int) -> tuple:\n",
        "    expanded = [] # list of expanded vertices in the traversal order\n",
        "    path = [] # path from src to dst\n",
        "    if src == dst:\n",
        "      return expanded, path\n",
        "    frontier = [src]\n",
        "    path_cost = 0\n",
        "    parent = {src:-1}\n",
        "    flag = False\n",
        "    while True:\n",
        "      if len(frontier) == 0:\n",
        "        break\n",
        "      u = frontier.pop(0)\n",
        "      expanded.append(u)\n",
        "      if u not in g.AL.keys():\n",
        "        continue\n",
        "      for v, w in g.AL[u]:\n",
        "        if v not in expanded and v not in frontier:\n",
        "          parent[v] = u\n",
        "          frontier.append(v)\n",
        "          if v == dst:\n",
        "            flag = True\n",
        "            break\n",
        "      if flag:\n",
        "        break\n",
        "    \n",
        "    if dst in parent.keys():\n",
        "      u = dst\n",
        "      while u != -1:\n",
        "        path = [u] + path\n",
        "        u = parent[u]\n",
        "    return expanded, path"
      ]
    },
    {
      "cell_type": "code",
      "execution_count": 87,
      "metadata": {
        "id": "nMO61eRTZrRS"
      },
      "outputs": [],
      "source": [
        "class DFS(SearchStrategy):\n",
        "  def __init__(self):\n",
        "    self.expanded = []\n",
        "    self.parent = {}\n",
        "  \n",
        "  def search(self, g: Graph, src: int, dst: int) -> tuple:\n",
        "    expanded = [] # list of expanded vertices in the traversal order\n",
        "    path = [] # path from src to dst\n",
        "\n",
        "    self.parent[src] = -1\n",
        "    self.RecurDFS(g, src, dst)\n",
        "    \n",
        "    if dst in self.parent.keys():\n",
        "      u = dst\n",
        "      while u != -1:\n",
        "        path = [u] + path\n",
        "        u = self.parent[u]\n",
        "    \n",
        "    expanded = self.expanded\n",
        "    return expanded, path\n",
        "  \n",
        "  def RecurDFS(self, g: Graph, src: int, dst: int) -> tuple:\n",
        "    self.expanded.append(src)\n",
        "    if src in g.AL.keys():\n",
        "      for v, w in g.AL[src]:\n",
        "        if v not in self.expanded:\n",
        "          self.parent[v] = src\n",
        "          self.RecurDFS(g, v, dst)"
      ]
    },
    {
      "cell_type": "code",
      "execution_count": 88,
      "metadata": {
        "id": "xp3Vi2j5Zr00"
      },
      "outputs": [],
      "source": [
        "class UCS(SearchStrategy):\n",
        "  def search(self, g: Graph, src: int, dst: int) -> tuple:\n",
        "    expanded = [] # list of expanded vertices in the traversal order\n",
        "    path = [] # path from src to dst\n",
        "\n",
        "    pq = [(0, src, -1)]\n",
        "    parent = {src: -1}\n",
        "    while len(pq) != 0:\n",
        "      w, u, pu = heapq.heappop(pq)\n",
        "      parent[u] = pu\n",
        "      if u == dst:\n",
        "        break\n",
        "      if u in expanded:\n",
        "        continue\n",
        "      expanded.append(u)\n",
        "      if u not in g.AL.keys():\n",
        "        continue\n",
        "      for v, w_ in g.AL[u]:\n",
        "        if v in expanded:\n",
        "          continue\n",
        "        heapq.heappush(pq, (w + w_, v, u))\n",
        "    \n",
        "    if dst in parent.keys():\n",
        "      u = dst\n",
        "      while u != -1:\n",
        "        path = [u] + path\n",
        "        u = parent[u]\n",
        "    return expanded, path"
      ]
    },
    {
      "cell_type": "code",
      "execution_count": 89,
      "metadata": {
        "id": "akqnRp04Zsbt"
      },
      "outputs": [],
      "source": [
        "class DLS(SearchStrategy):\n",
        "  def __init__(self, LIM: int):\n",
        "    self.LIM = LIM\n",
        "    self.expanded = []\n",
        "    self.parent = {}\n",
        "  \n",
        "  def search(self, g: Graph, src: int, dst: int) -> tuple:\n",
        "    expanded = [] # list of expanded vertices in the traversal order\n",
        "    path = [] # path from src to dst\n",
        "    \n",
        "    self.parent[src] = -1\n",
        "    self.RecursiveDLS(g, src, dst, self.LIM)\n",
        "    expanded = self.expanded\n",
        "    if dst in self.parent.keys():\n",
        "      u = dst\n",
        "      while u != -1:\n",
        "        path = [u] + path\n",
        "        u = self.parent[u]\n",
        "    \n",
        "    return expanded, path\n",
        "  \n",
        "  def RecursiveDLS(self, g: Graph, src: int, dst: int, limit: int) -> tuple:\n",
        "    self.expanded.append(src)\n",
        "    if limit == 1:\n",
        "      return\n",
        "    if src not in g.AL.keys():\n",
        "      return\n",
        "    for v, w in g.AL[src]:\n",
        "      if v not in self.expanded:\n",
        "        self.parent[v] = src\n",
        "        self.RecursiveDLS(g, v, dst, limit - 1)\n",
        "      "
      ]
    },
    {
      "cell_type": "code",
      "execution_count": 90,
      "metadata": {
        "id": "os7VMwXIZ4f2"
      },
      "outputs": [],
      "source": [
        "class IDS(SearchStrategy):\n",
        "  def __init__(self, MAX_LIM: int):\n",
        "    self.MAX_LIM = MAX_LIM\n",
        "  \n",
        "  def search(self, g: Graph, src: int, dst: int) -> tuple:\n",
        "    expanded = [] # list of expanded vertices in the traversal order\n",
        "    path = [] # path from src to dst\n",
        "\n",
        "    for lim in range(1, self.MAX_LIM + 1):\n",
        "      dls = DLS(lim)\n",
        "      expanded, path = dls.search(g, src, dst)\n",
        "      if len(path) != 0:\n",
        "        break\n",
        "    \n",
        "    return expanded, path"
      ]
    },
    {
      "cell_type": "markdown",
      "metadata": {
        "id": "hzWhWbDMdItW"
      },
      "source": [
        "# Evaluation"
      ]
    },
    {
      "cell_type": "code",
      "execution_count": 91,
      "metadata": {
        "colab": {
          "base_uri": "https://localhost:8080/"
        },
        "id": "kI0wFSGuaKeT",
        "outputId": "62de56b5-b030-4ad2-c24a-b9895fc8e00e"
      },
      "outputs": [
        {
          "name": "stdout",
          "output_type": "stream",
          "text": [
            "<__main__.BFS object at 0x0000025B08BEA910>\n",
            "[0, 1, 2, 3]\n",
            "[0, 1, 3, 6]\n",
            "<__main__.DFS object at 0x0000025B08BA3A50>\n",
            "[0, 1, 3, 5, 6, 4, 2]\n",
            "[0, 1, 3, 6]\n",
            "<__main__.UCS object at 0x0000025B08BA3510>\n",
            "[0, 1, 2, 5, 4, 3]\n",
            "[0, 1, 4, 6]\n",
            "<__main__.DLS object at 0x0000025B07638E90>\n",
            "[0, 1, 3, 4, 2, 5]\n",
            "[]\n",
            "<__main__.IDS object at 0x0000025B0762AAD0>\n",
            "[0, 1, 3, 5, 6, 4, 2]\n",
            "[0, 1, 3, 6]\n"
          ]
        }
      ],
      "source": [
        "bfs = BFS()\n",
        "dfs = DFS()\n",
        "ucs = UCS()\n",
        "dls = DLS(LIM=3)\n",
        "ids = IDS(MAX_LIM=5)\n",
        "\n",
        "for stg in [bfs, dfs, ucs, dls, ids]:\n",
        "  print(stg)\n",
        "  expanded, path = stg.search(g, 0, g.V-1)\n",
        "  print(expanded)\n",
        "  print(path)\n",
        "\n"
      ]
    },
    {
      "cell_type": "markdown",
      "metadata": {
        "id": "95erCQsOdTfL"
      },
      "source": [
        "# Submission Notice\n",
        "\n",
        "\n",
        "*   Maintain all cell outputs\n",
        "*   Download and rename the notebook as **lab01_\\<Student ID\\>.ipynb**\n",
        "*   Submit by the deadline\n"
      ]
    }
  ],
  "metadata": {
    "colab": {
      "provenance": []
    },
    "kernelspec": {
      "display_name": "Python 3",
      "language": "python",
      "name": "python3"
    },
    "language_info": {
      "codemirror_mode": {
        "name": "ipython",
        "version": 3
      },
      "file_extension": ".py",
      "mimetype": "text/x-python",
      "name": "python",
      "nbconvert_exporter": "python",
      "pygments_lexer": "ipython3",
      "version": "3.11.1"
    },
    "vscode": {
      "interpreter": {
        "hash": "d64e4f3cd5d56ac44e4093b8b2f1557334ec82e7be150bf44cc4d33562360747"
      }
    }
  },
  "nbformat": 4,
  "nbformat_minor": 0
}
